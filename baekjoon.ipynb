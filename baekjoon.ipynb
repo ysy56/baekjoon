{
  "nbformat": 4,
  "nbformat_minor": 0,
  "metadata": {
    "colab": {
      "name": "baekjoon.ipynb",
      "provenance": [],
      "collapsed_sections": [],
      "mount_file_id": "1WS_Wwf2a9oLAcAVGpMZ5ziAe18RlM9LE",
      "authorship_tag": "ABX9TyOh4Fl2rKvXTve3kqhDXrM1",
      "include_colab_link": true
    },
    "kernelspec": {
      "name": "python3",
      "display_name": "Python 3"
    },
    "language_info": {
      "name": "python"
    }
  },
  "cells": [
    {
      "cell_type": "markdown",
      "metadata": {
        "id": "view-in-github",
        "colab_type": "text"
      },
      "source": [
        "<a href=\"https://colab.research.google.com/github/ysy56/baekjoon/blob/main/baekjoon.ipynb\" target=\"_parent\"><img src=\"https://colab.research.google.com/assets/colab-badge.svg\" alt=\"Open In Colab\"/></a>"
      ]
    },
    {
      "cell_type": "code",
      "execution_count": null,
      "metadata": {
        "id": "f1tR_uQYyAEP",
        "colab": {
          "base_uri": "https://localhost:8080/"
        },
        "outputId": "b652b9af-fb94-4146-d101-980f5f3d36db"
      },
      "outputs": [
        {
          "output_type": "stream",
          "name": "stdout",
          "text": [
            "Drive already mounted at /content/drive; to attempt to forcibly remount, call drive.mount(\"/content/drive\", force_remount=True).\n"
          ]
        }
      ],
      "source": [
        "from google.colab import drive\n",
        "drive.mount('/content/drive')"
      ]
    },
    {
      "cell_type": "markdown",
      "source": [
        "# 준비운동 PART1. 튼튼한 기본기"
      ],
      "metadata": {
        "id": "aGiqWP6vyHkN"
      }
    },
    {
      "cell_type": "code",
      "source": [
        "# 2051번 약수 구하기\n",
        "\n",
        "n, k = input().split() \n",
        "\n",
        "n = int(n) \n",
        "k = int(k) \n",
        "\n",
        "ls = [] \n",
        "for i in range(1, n+1): \n",
        "  if n%i == 0: \n",
        "    ls.append(i) \n",
        "f = len(ls) \n",
        "if k > f: \n",
        "  print(0) \n",
        "else: \n",
        "  print(ls[k-1])\n"
      ],
      "metadata": {
        "id": "Q8s_OKmqyJGu"
      },
      "execution_count": null,
      "outputs": []
    },
    {
      "cell_type": "code",
      "source": [
        "# 3460번 이진수\n",
        "\n",
        "T = int(input())\n",
        "for i in range(T):\n",
        "  n = int(input())\n",
        "\n",
        "  s = bin(n)\n",
        "  num = len(s)\n",
        "\n",
        "  for i in range(1, num-1):\n",
        "    if s[-i] == '1':\n",
        "      print(i-1, end=' ')\n",
        "  print()\n"
      ],
      "metadata": {
        "id": "UqyE48UUyvAb",
        "colab": {
          "base_uri": "https://localhost:8080/"
        },
        "outputId": "28324058-278e-48f9-b739-bf5e7dbd1a99"
      },
      "execution_count": null,
      "outputs": [
        {
          "output_type": "stream",
          "name": "stdout",
          "text": [
            "2\n",
            "13\n",
            "0 2 3 \n",
            "4\n",
            "2 \n"
          ]
        }
      ]
    },
    {
      "cell_type": "code",
      "source": [
        "# 10818번 최소, 최대\n",
        "\n",
        "n = int(input())\n",
        "num_list = list(map(int, input().split()))\n",
        "num_list.sort(reverse=False)\n",
        "print(num_list[0], num_list[n-1])"
      ],
      "metadata": {
        "colab": {
          "base_uri": "https://localhost:8080/"
        },
        "id": "ok4aCiBf569V",
        "outputId": "fd0c901d-c379-4eb3-d905-28782c0b575c"
      },
      "execution_count": null,
      "outputs": [
        {
          "output_type": "stream",
          "name": "stdout",
          "text": [
            "3\n",
            "4 9 2\n",
            "2 9\n"
          ]
        }
      ]
    },
    {
      "cell_type": "code",
      "source": [
        "# 2460번 지능형 기차 2\n",
        "\n",
        "p = 0\n",
        "p_list = []\n",
        "\n",
        "for i in range(10):\n",
        "  out, put = input().split()\n",
        "  out = int(out)\n",
        "  put = int(put)\n",
        "  p = p - out + put\n",
        "  p_list.append(p)\n",
        "\n",
        "p_list.sort(reverse = True)\n",
        "print(p_list[0])"
      ],
      "metadata": {
        "colab": {
          "base_uri": "https://localhost:8080/"
        },
        "id": "vIEIxS_MDaJW",
        "outputId": "7e803033-ad36-4adf-862d-48eda27f6836"
      },
      "execution_count": null,
      "outputs": [
        {
          "output_type": "stream",
          "name": "stdout",
          "text": [
            "0 32\n",
            "3 13\n",
            "28 25\n",
            "17 5\n",
            "21 20\n",
            "11 0\n",
            "12 12\n",
            "4 2\n",
            "0 8\n",
            "21 0\n",
            "42\n"
          ]
        }
      ]
    },
    {
      "cell_type": "code",
      "source": [
        "# 10870번 피보나치 수 5\n",
        "\n",
        "n = int(input())\n",
        "\n",
        "num_list = [0, 1]\n",
        "for i in range(2, n+1):\n",
        "  num_list.append(num_list[i-1]+num_list[i-2])\n",
        "\n",
        "print(num_list[n])"
      ],
      "metadata": {
        "id": "EDUqMCpvXfW8",
        "colab": {
          "base_uri": "https://localhost:8080/"
        },
        "outputId": "ca76dc22-7df7-4062-a517-ea5ee246d759"
      },
      "execution_count": null,
      "outputs": [
        {
          "output_type": "stream",
          "name": "stdout",
          "text": [
            "10\n",
            "55\n"
          ]
        }
      ]
    },
    {
      "cell_type": "code",
      "source": [
        "# 23092309번 일곱 난쟁이\n",
        "\n",
        "num_list = []\n",
        "\n",
        "for i in range(7):\n",
        "  cm = int(input())\n",
        "  num_list.append(cm)\n",
        "\n",
        "print(sorted(num_list))"
      ],
      "metadata": {
        "colab": {
          "base_uri": "https://localhost:8080/"
        },
        "id": "Ltiswd1tj7yz",
        "outputId": "05941c17-3fad-4e56-b066-65d61768d610"
      },
      "execution_count": null,
      "outputs": [
        {
          "output_type": "stream",
          "name": "stdout",
          "text": [
            "20\n",
            "56\n",
            "42\n",
            "12\n",
            "16\n",
            "43\n",
            "29\n",
            "[12, 16, 20, 29, 42, 43, 56]\n"
          ]
        }
      ]
    },
    {
      "cell_type": "code",
      "source": [
        ""
      ],
      "metadata": {
        "id": "T3Xx_kaqNcmT"
      },
      "execution_count": null,
      "outputs": []
    },
    {
      "cell_type": "code",
      "source": [
        ""
      ],
      "metadata": {
        "id": "79cYDfrMNhcp"
      },
      "execution_count": null,
      "outputs": []
    }
  ]
}