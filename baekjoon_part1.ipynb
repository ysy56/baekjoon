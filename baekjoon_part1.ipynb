{
  "nbformat": 4,
  "nbformat_minor": 0,
  "metadata": {
    "colab": {
      "name": "baekjoon_part1.ipynb",
      "provenance": [],
      "collapsed_sections": [],
      "mount_file_id": "1WS_Wwf2a9oLAcAVGpMZ5ziAe18RlM9LE",
      "authorship_tag": "ABX9TyMgWCCyw2szHTWuBXJwS6Ei",
      "include_colab_link": true
    },
    "kernelspec": {
      "name": "python3",
      "display_name": "Python 3"
    },
    "language_info": {
      "name": "python"
    }
  },
  "cells": [
    {
      "cell_type": "markdown",
      "metadata": {
        "id": "view-in-github",
        "colab_type": "text"
      },
      "source": [
        "<a href=\"https://colab.research.google.com/github/ysy56/baekjoon/blob/main/baekjoon_part1.ipynb\" target=\"_parent\"><img src=\"https://colab.research.google.com/assets/colab-badge.svg\" alt=\"Open In Colab\"/></a>"
      ]
    },
    {
      "cell_type": "code",
      "execution_count": null,
      "metadata": {
        "id": "f1tR_uQYyAEP",
        "colab": {
          "base_uri": "https://localhost:8080/"
        },
        "outputId": "b652b9af-fb94-4146-d101-980f5f3d36db"
      },
      "outputs": [
        {
          "output_type": "stream",
          "name": "stdout",
          "text": [
            "Drive already mounted at /content/drive; to attempt to forcibly remount, call drive.mount(\"/content/drive\", force_remount=True).\n"
          ]
        }
      ],
      "source": [
        "from google.colab import drive\n",
        "drive.mount('/content/drive')"
      ]
    },
    {
      "cell_type": "markdown",
      "source": [
        "# 준비운동 PART1. 튼튼한 기본기"
      ],
      "metadata": {
        "id": "aGiqWP6vyHkN"
      }
    },
    {
      "cell_type": "code",
      "source": [
        "# 2051번 약수 구하기\n",
        "\n",
        "n, k = input().split() \n",
        "\n",
        "n = int(n) \n",
        "k = int(k) \n",
        "\n",
        "ls = [] \n",
        "for i in range(1, n+1): \n",
        "  if n%i == 0: \n",
        "    ls.append(i) \n",
        "f = len(ls) \n",
        "if k > f: \n",
        "  print(0) \n",
        "else: \n",
        "  print(ls[k-1])\n"
      ],
      "metadata": {
        "id": "Q8s_OKmqyJGu"
      },
      "execution_count": null,
      "outputs": []
    },
    {
      "cell_type": "code",
      "source": [
        "# 3460번 이진수\n",
        "\n",
        "T = int(input())\n",
        "for i in range(T):\n",
        "  n = int(input())\n",
        "\n",
        "  s = bin(n)\n",
        "  num = len(s)\n",
        "\n",
        "  for i in range(1, num-1):\n",
        "    if s[-i] == '1':\n",
        "      print(i-1, end=' ')\n",
        "  print()\n"
      ],
      "metadata": {
        "id": "UqyE48UUyvAb",
        "colab": {
          "base_uri": "https://localhost:8080/"
        },
        "outputId": "28324058-278e-48f9-b739-bf5e7dbd1a99"
      },
      "execution_count": null,
      "outputs": [
        {
          "output_type": "stream",
          "name": "stdout",
          "text": [
            "2\n",
            "13\n",
            "0 2 3 \n",
            "4\n",
            "2 \n"
          ]
        }
      ]
    },
    {
      "cell_type": "code",
      "source": [
        "# 10818번 최소, 최대\n",
        "\n",
        "n = int(input())\n",
        "num_list = list(map(int, input().split()))\n",
        "num_list.sort(reverse=False)\n",
        "print(num_list[0], num_list[n-1])"
      ],
      "metadata": {
        "colab": {
          "base_uri": "https://localhost:8080/"
        },
        "id": "ok4aCiBf569V",
        "outputId": "fd0c901d-c379-4eb3-d905-28782c0b575c"
      },
      "execution_count": null,
      "outputs": [
        {
          "output_type": "stream",
          "name": "stdout",
          "text": [
            "3\n",
            "4 9 2\n",
            "2 9\n"
          ]
        }
      ]
    },
    {
      "cell_type": "code",
      "source": [
        "# 2460번 지능형 기차 2\n",
        "\n",
        "p = 0\n",
        "p_list = []\n",
        "\n",
        "for i in range(10):\n",
        "  out, put = input().split()\n",
        "  out = int(out)\n",
        "  put = int(put)\n",
        "  p = p - out + put\n",
        "  p_list.append(p)\n",
        "\n",
        "p_list.sort(reverse = True)\n",
        "print(p_list[0])"
      ],
      "metadata": {
        "colab": {
          "base_uri": "https://localhost:8080/"
        },
        "id": "vIEIxS_MDaJW",
        "outputId": "7e803033-ad36-4adf-862d-48eda27f6836"
      },
      "execution_count": null,
      "outputs": [
        {
          "output_type": "stream",
          "name": "stdout",
          "text": [
            "0 32\n",
            "3 13\n",
            "28 25\n",
            "17 5\n",
            "21 20\n",
            "11 0\n",
            "12 12\n",
            "4 2\n",
            "0 8\n",
            "21 0\n",
            "42\n"
          ]
        }
      ]
    },
    {
      "cell_type": "code",
      "source": [
        "# 10870번 피보나치 수 5\n",
        "\n",
        "n = int(input())\n",
        "\n",
        "num_list = [0, 1]\n",
        "for i in range(2, n+1):\n",
        "  num_list.append(num_list[i-1]+num_list[i-2])\n",
        "\n",
        "print(num_list[n])"
      ],
      "metadata": {
        "id": "EDUqMCpvXfW8",
        "colab": {
          "base_uri": "https://localhost:8080/"
        },
        "outputId": "ca76dc22-7df7-4062-a517-ea5ee246d759"
      },
      "execution_count": null,
      "outputs": [
        {
          "output_type": "stream",
          "name": "stdout",
          "text": [
            "10\n",
            "55\n"
          ]
        }
      ]
    },
    {
      "cell_type": "code",
      "source": [
        "# 2309번 일곱 난쟁이\n",
        "\n",
        "num_list = []\n",
        "\n",
        "for i in range(7):\n",
        "  cm = int(input())\n",
        "  num_list.append(cm)\n",
        "\n",
        "print(sorted(num_list))"
      ],
      "metadata": {
        "colab": {
          "base_uri": "https://localhost:8080/"
        },
        "id": "Ltiswd1tj7yz",
        "outputId": "05941c17-3fad-4e56-b066-65d61768d610"
      },
      "execution_count": null,
      "outputs": [
        {
          "output_type": "stream",
          "name": "stdout",
          "text": [
            "20\n",
            "56\n",
            "42\n",
            "12\n",
            "16\n",
            "43\n",
            "29\n",
            "[12, 16, 20, 29, 42, 43, 56]\n"
          ]
        }
      ]
    },
    {
      "cell_type": "code",
      "source": [
        "# 2609번 최대공약수와 최소공배수 \n",
        "\n",
        "n1, n2 = map(int, input().split())\n",
        "\n",
        "def gcd(x, y):\n",
        "  while(y):\n",
        "    x, y = y, x%y\n",
        "  return x\n",
        "print(gcd(n1, n2))\n",
        "\n",
        "print((n1*n2)//gcd(n1, n2))\n"
      ],
      "metadata": {
        "id": "T3Xx_kaqNcmT",
        "colab": {
          "base_uri": "https://localhost:8080/"
        },
        "outputId": "3f174fca-0381-4117-cd31-8a981364f29c"
      },
      "execution_count": 21,
      "outputs": [
        {
          "output_type": "stream",
          "name": "stdout",
          "text": [
            "24 18\n",
            "6\n",
            "72\n"
          ]
        }
      ]
    },
    {
      "cell_type": "code",
      "source": [
        "# 2693번 N번째 큰 수\n",
        "\n",
        "n = int(input())\n",
        "arr = []\n",
        "\n",
        "for i in range(n):\n",
        "  arr.append(list(map(int, input().split())))\n",
        "  arr[i].sort(reverse = True)\n",
        "\n",
        "for i in range(n):\n",
        "  print(arr[i][2])"
      ],
      "metadata": {
        "id": "79cYDfrMNhcp",
        "colab": {
          "base_uri": "https://localhost:8080/"
        },
        "outputId": "7f8fc7d2-7f96-4e1c-86b5-105e1cd3c89c"
      },
      "execution_count": 22,
      "outputs": [
        {
          "output_type": "stream",
          "name": "stdout",
          "text": [
            "2\n",
            "1 8 3 2\n",
            "9 3 7 2\n",
            "2\n",
            "3\n"
          ]
        }
      ]
    },
    {
      "cell_type": "code",
      "source": [
        "# 1978번 소수 찾기\n",
        "\n",
        "import math\n",
        "\n",
        "def find_primenumber(n):\n",
        "  if n == 1 :\n",
        "    return False\n",
        "  for i in range(2, int(math.sqrt(n) + 1)):\n",
        "    if n % i == 0:\n",
        "      return False\n",
        "  return True\n",
        "\n",
        "l = int(input())\n",
        "list_n = list(map(int, input().split()))\n",
        "\n",
        "primenumber = 0\n",
        "for i in range(l):\n",
        "  if find_primenumber(list_n[i]):\n",
        "    primenumber += 1\n",
        "print(primenumber)"
      ],
      "metadata": {
        "colab": {
          "base_uri": "https://localhost:8080/"
        },
        "id": "FLaAeyIJ8IGU",
        "outputId": "c60445a8-723d-4170-c00f-023e7e0e0f9e"
      },
      "execution_count": 28,
      "outputs": [
        {
          "output_type": "stream",
          "name": "stdout",
          "text": [
            "4\n",
            "1 3 5 7\n",
            "3\n"
          ]
        }
      ]
    },
    {
      "cell_type": "code",
      "source": [
        "# 1292번 쉽게 푸는 문제\n",
        "\n",
        "a, b = map(int,input().split())\n",
        "arr = []\n",
        "\n",
        "for i in range(1, 46):\n",
        "  for j in range(i):\n",
        "    arr.append(i)\n",
        "\n",
        "num = 0\n",
        "for i in range(min(a, b)-1, max(a, b)):\n",
        "  num += arr[i]\n",
        "print(num)"
      ],
      "metadata": {
        "colab": {
          "base_uri": "https://localhost:8080/"
        },
        "id": "CXvWEHm58H6y",
        "outputId": "5bddb298-6f58-4e23-9b74-0b41b9a6c8c6"
      },
      "execution_count": 18,
      "outputs": [
        {
          "output_type": "stream",
          "name": "stdout",
          "text": [
            "3 7\n",
            "15\n"
          ]
        }
      ]
    },
    {
      "cell_type": "code",
      "source": [
        "# 2581번 소수\n",
        "import math\n",
        "\n",
        "def find_primenumber(n):\n",
        "  if n == 1 :\n",
        "    return 0\n",
        "  for i in range(2, int(math.sqrt(n) + 1)):\n",
        "    if n % i == 0:\n",
        "      return 0\n",
        "  return n\n",
        "\n",
        "n1 = int(input())\n",
        "n2 = int(input())\n",
        "\n",
        "sum = 0\n",
        "min_primenumber = 0\n",
        "for i in range(n1, n2+1):\n",
        "  if find_primenumber(i) != 0:\n",
        "    sum += find_primenumber(i)\n",
        "    if min_primenumber == 0:\n",
        "      min_primenumber += sum\n",
        "\n",
        "if sum == 0:\n",
        "  print(-1)\n",
        "else:\n",
        "  print(sum)\n",
        "  print(min_primenumber)"
      ],
      "metadata": {
        "colab": {
          "base_uri": "https://localhost:8080/"
        },
        "id": "JLgqzpVQ8Hu9",
        "outputId": "fe1fe42c-714e-4942-8f00-f05f3d5142ed"
      },
      "execution_count": 22,
      "outputs": [
        {
          "output_type": "stream",
          "name": "stdout",
          "text": [
            "64\n",
            "65\n",
            "-1\n"
          ]
        }
      ]
    }
  ]
}